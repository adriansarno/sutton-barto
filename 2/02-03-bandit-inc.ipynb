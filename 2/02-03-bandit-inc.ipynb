{
 "cells": [
  {
   "cell_type": "markdown",
   "metadata": {},
   "source": [
    "# The k-Armed Bandit Problem"
   ]
  },
  {
   "cell_type": "code",
   "execution_count": null,
   "metadata": {},
   "outputs": [],
   "source": [
    "__author__ = \"Adrian Sarno\""
   ]
  },
  {
   "cell_type": "code",
   "execution_count": 1,
   "metadata": {},
   "outputs": [],
   "source": [
    "from __future__ import division\n",
    "import numpy as np\n",
    "import matplotlib.pyplot as plt\n",
    "%matplotlib inline"
   ]
  },
  {
   "cell_type": "markdown",
   "metadata": {},
   "source": [
    "### Problem definition\n",
    "Givent a slot machine with k arms (a.k.a. k-armed bandit), we want to estimate a function Q that to estimate the expected pay-off of each arm.\n",
    "\n",
    "More formally:\n",
    "\n",
    "                    r = Q[a]\n",
    "where:\n",
    "- Q: value function\n",
    "* a: action (arm pulled)\n",
    "* r: value of the reward (actually, this is the mean value or expectation, since the reward is a random variable)\n",
    "\n"
   ]
  },
  {
   "cell_type": "markdown",
   "metadata": {},
   "source": [
    "### Test Models Matrix"
   ]
  },
  {
   "cell_type": "markdown",
   "metadata": {},
   "source": [
    "Test Models is a matrix of 2000 rows and 10 columns. This matrix contains the expected values that we need to approximate. \n",
    "\n",
    "Each row stores the model parameters of one k-armed bandit (a slot machine with k arms). Each cell in the row stores the True Expected Value of the reward given by each of the k possible actions that the agent can do on the bandit (equivalent to a player pulling one of the k levers). \n",
    "\n",
    "The test models matrix will serve two purposes, one is as generative model, because we will code a simulation that generates examples based on the model parameters stored in the test models matrix.\n",
    "The second purpose is as ground truth to compare to our predicted model against, to measure how precisely we learned the expected values from the generated examples."
   ]
  },
  {
   "cell_type": "markdown",
   "metadata": {},
   "source": [
    "Create a set of 2000 randomly generated 10-armed bandit models."
   ]
  },
  {
   "cell_type": "code",
   "execution_count": 41,
   "metadata": {},
   "outputs": [],
   "source": [
    "n = 2000   # number of bandits\n",
    "k = 10     # number of arms in each bandit\n",
    "test_models = np.random.normal(0.0, 1.0, size=(n, k))"
   ]
  },
  {
   "cell_type": "markdown",
   "metadata": {},
   "source": [
    "The True Expected Value (arithmetic mean) is a statistic distributed normally with mean 0 and variance 1. "
   ]
  },
  {
   "cell_type": "code",
   "execution_count": 42,
   "metadata": {},
   "outputs": [
    {
     "data": {
      "text/plain": [
       "array([-1.03094875, -0.45857274,  2.41666434, -0.71145596, -0.35659632,\n",
       "       -1.01503485, -0.40032631, -1.04028737, -0.07134019, -0.92757493])"
      ]
     },
     "execution_count": 42,
     "metadata": {},
     "output_type": "execute_result"
    }
   ],
   "source": [
    "test_models[0]"
   ]
  },
  {
   "cell_type": "markdown",
   "metadata": {},
   "source": [
    "We use a simulation to genete the training examples, the output of the simulation is the reward paid by the bandit when the agent pulls each of the levelrs. This output is stochastic with mean given by the value in the row and column a (action) of the test models matrix, and variance 1."
   ]
  },
  {
   "cell_type": "code",
   "execution_count": 43,
   "metadata": {},
   "outputs": [],
   "source": [
    "# the bandit returns the actual reward from the true model\n",
    "def bandit(row, a):\n",
    "    r = test_models[row, a] + np.random.normal()\n",
    "    return r"
   ]
  },
  {
   "cell_type": "markdown",
   "metadata": {},
   "source": [
    "## Action-Value Methods\n",
    "### ε-greedy method - Incremental implementation (Sutton-Barto 2.3)"
   ]
  },
  {
   "cell_type": "markdown",
   "metadata": {},
   "source": [
    "Greedy action: q∗(At), the action with maximum reward."
   ]
  },
  {
   "cell_type": "code",
   "execution_count": 44,
   "metadata": {},
   "outputs": [
    {
     "name": "stdout",
     "output_type": "stream",
     "text": [
      "Expected pay-off Bandit nr. 2=\n",
      "[-0.33688004  1.29815854 -1.01968223  1.34556073  1.40496157  0.17233312\n",
      "  1.05084664  0.51511195  0.67588065  0.6189998 ]\n",
      "\n",
      "Greedy policy:\n",
      "q*: lever=4, expected value=1.4049615703262142\n"
     ]
    }
   ],
   "source": [
    "# greedy action index\n",
    "row = 2\n",
    "q_opt = np.argmax(test_models, 1)  # max along columns (max of each row)\n",
    "print(f\"Expected pay-off Bandit nr. {row}=\\n{test_models[row]}\\n\\nGreedy policy:\\nq*: lever={q_opt[row]}, expected value={test_models[row, q_opt[row]]}\")"
   ]
  },
  {
   "cell_type": "markdown",
   "metadata": {},
   "source": [
    "When a greedy method is applied to the 10-armed test models, the algorithm chooses the action mith maximum expected reward, this action is called the greedy action, or action A that maximizes the expected reward.\n",
    "\n",
    "Note that the actual reward is stochastic, the model only knows the Expected reward, and the actual reward is random with q∗(At) as mean (expectation) and variance 1. (where q*() is the greedy policy function, and 'At' is the action at time step t.)"
   ]
  },
  {
   "cell_type": "code",
   "execution_count": 45,
   "metadata": {},
   "outputs": [],
   "source": [
    "# ε-greedy method (Sutton-Barto 2.2)\n",
    "def epsilon_greedy(Q, epsilon):\n",
    "    a =  np.random.choice(range(10)) if np.random.sample() < epsilon else np.argmax(Q)\n",
    "    return a"
   ]
  },
  {
   "cell_type": "markdown",
   "metadata": {},
   "source": [
    "The estimator of the action values is the averages of the observed rewards for each action.\n",
    "To compute these estimators with minimum computational cost, we apply an incremental formula for updating averages with small, constant computation required to process\n",
    "each new reward."
   ]
  },
  {
   "cell_type": "code",
   "execution_count": 46,
   "metadata": {},
   "outputs": [],
   "source": [
    "def update_rule(old_estimate, target, step_size):\n",
    "    new_estimate = old_estimate + step_size * (target - old_estimate)\n",
    "    return new_estimate"
   ]
  },
  {
   "cell_type": "markdown",
   "metadata": {},
   "source": [
    "The smulation and the training process run concurrently, taking one model at a time and generating 1000 simulated plays. In each play, the value function Q (initialized randomly) is used to choose an arm of the bandit, and the reward is used to update the value function, increasing the chances to be selected for those arms that tend to return more positive values."
   ]
  },
  {
   "cell_type": "code",
   "execution_count": 30,
   "metadata": {},
   "outputs": [],
   "source": [
    "Qs = np.zeros(shape=(n, k))\n",
    "num_steps = 1000\n",
    "epsilon = .1\n",
    " \n",
    "# ratio for plotting performance\n",
    "ratio_est_vs_opt = np.zeros(shape=(n, num_steps))\n",
    "# accumulators for plotting performance\n",
    "rewards_accum =   np.zeros(shape=(n, num_steps))\n",
    "opt_rewards_accum =   np.zeros(shape=(n, num_steps)) + 1/10**6 # avoid division by zero at step zero\n",
    "    \n",
    "# for each model\n",
    "for i in range(n):\n",
    "    if i+1 % (n/5) == 0:\n",
    "        print(f\"{i-1} bandits computed\")\n",
    "    \n",
    "    N = np.zeros(k) # action_counters\n",
    "    \n",
    "    # 1 run\n",
    "    for t in range(num_steps):       \n",
    "        # estimate best action, based on estimated action-values, with epsilon-greedy method\n",
    "        a = epsilon_greedy(Qs[i,:], epsilon)\n",
    "        \n",
    "        # act and collect the actual reward from the bandit\n",
    "        reward = bandit(i, a)\n",
    "\n",
    "        # update our estimate of the action value \n",
    "        N[a] += 1\n",
    "        Qs[i, a] = update_rule(Qs[i, a], reward, 1/N[a])\n",
    "              \n",
    "        # store the accumulators to calculate the ratio of epsilon-greedy vs optimal at each step for plotting\n",
    "        if t > 0:\n",
    "            rewards_accum[i, t] = rewards_accum[i, t-1] + reward\n",
    "            opt_rewards_accum[i, t] = opt_rewards_accum[i, t-1] + bandit(i, q_opt[i])"
   ]
  },
  {
   "cell_type": "markdown",
   "metadata": {},
   "source": [
    "As a result we obtain the learned value function (stored in the matrix Qs) and a history of the rewards obtained by the greedy policy according to the value function at each step of the traininng (stored in the matrix rewards_accum). We also compute a history of the rewards that could be obtained at each step if the agent would have known the optimal lever to chose for each banit (this is stored in the opt_rewards_accum matrix)."
   ]
  },
  {
   "cell_type": "code",
   "execution_count": 32,
   "metadata": {},
   "outputs": [
    {
     "data": {
      "text/plain": [
       "(2000, 1000)"
      ]
     },
     "execution_count": 32,
     "metadata": {},
     "output_type": "execute_result"
    }
   ],
   "source": [
    "rewards_accum.shape"
   ]
  },
  {
   "cell_type": "markdown",
   "metadata": {},
   "source": [
    "### Compute ratio of cumulative rewards\n",
    "\n",
    "To compute the ratio, we divide the reward obtained by out learned function q on each bandit at each iteration of the training process (simulation), over the optimal reward of each bandit (stationary) according to the bandit test models matrix.\n",
    "\n",
    "Some bandits in the test models matrix may contain zero or close to zero optimal expected rewards, but if we compute the mean of the optimal expected rewards of all bandits, this will be positive with high probability. Therefore, we compute the means for all bandits first and later compute the ratio of means for each iteration."
   ]
  },
  {
   "cell_type": "code",
   "execution_count": 28,
   "metadata": {},
   "outputs": [],
   "source": [
    "# mean along rows (avg of each step over all models)\n",
    "avg_rewards_accum = np.mean(rewards_accum, 0)\n",
    "avg_opt_rewards_accum = np.mean(opt_rewards_accum, 0)\n",
    "\n",
    "#  average performance over all models\n",
    "avg_ratio_est_vs_opt = avg_rewards_accum / avg_opt_rewards_accum"
   ]
  },
  {
   "cell_type": "code",
   "execution_count": 47,
   "metadata": {},
   "outputs": [
    {
     "data": {
      "text/plain": [
       "Text(0, 0.5, 'Ratio Optimal / Model')"
      ]
     },
     "execution_count": 47,
     "metadata": {},
     "output_type": "execute_result"
    },
    {
     "data": {
      "image/png": "[encoded data removed]",
      "text/plain": [
       "<Figure size 432x288 with 1 Axes>"
      ]
     },
     "metadata": {
      "needs_background": "light"
     },
     "output_type": "display_data"
    }
   ],
   "source": [
    "plt.plot(avg_ratio_est_vs_opt)\n",
    "plt.title(\"Training Curve\")\n",
    "plt.xlabel(\"Time (iteration)\")\n",
    "plt.ylabel(\"Ratio Optimal / Model\")"
   ]
  },
  {
   "cell_type": "markdown",
   "metadata": {},
   "source": [
    "The figure shows the evolution of the average reward obtained by the gready policy on the Q function as this is being learned over time. We observe that in first few iterations, the ratio is close to zero, showing that the randomly initialized function Q is unable to choose the right arms, but over time Q learns to approximate the value of each arm for each bandit and the ratio between the optimal reward and the reward obtained from the learned value function Q tends to 1."
   ]
  },
  {
   "cell_type": "code",
   "execution_count": null,
   "metadata": {
    "collapsed": true
   },
   "outputs": [],
   "source": []
  }
 ],
 "metadata": {
  "anaconda-cloud": {},
  "kernelspec": {
   "display_name": "Python 3",
   "language": "python",
   "name": "python3"
  },
  "language_info": {
   "codemirror_mode": {
    "name": "ipython",
    "version": 3
   },
   "file_extension": ".py",
   "mimetype": "text/x-python",
   "name": "python",
   "nbconvert_exporter": "python",
   "pygments_lexer": "ipython3",
   "version": "3.7.4"
  }
 },
 "nbformat": 4,
 "nbformat_minor": 1
}
